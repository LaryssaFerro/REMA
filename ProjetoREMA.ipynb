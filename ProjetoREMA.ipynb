{
 "cells": [
  {
   "cell_type": "markdown",
   "id": "dental-cooperation",
   "metadata": {},
   "source": [
    "# Bem Vindo à Calculadora de Vigas!\n",
    "## Feita por Laryssa Ferro e Lucas Silva, leia a seguir como usar:\n",
    "\n",
    "- Aqui é possivel ver o codigo escrito e os dados que ele gera! \n",
    "\n",
    "- É só clicar na celula de interesse e clicar na opcao Run na barra no topo da pagina para entrar com novos dados ou graficos. Clique no quadrado e em Run em todos as celulas, sem pular, para que nada fique para tras!\n",
    "\n",
    "- Sempre que uma celula gerar uma saida, ela aparecera logo abaixo da celula! Se quiser entrar com um novo dado, clique na mesma celular e em Run novamente, os valores digitados anteriormente serao esquecidos. \n",
    "\n",
    "- Nao digite nada dentro da celula, pois ela contem o codigo, todos os dados solicitados de entrada serao pedidos logo abaixo da celula assim que clicar em Run.\n",
    "\n",
    "- Prefira seguir de forma a descer a página, ou seja, siga a ordem das celulas descendo a pagina!\n"
   ]
  },
  {
   "cell_type": "markdown",
   "id": "central-revolution",
   "metadata": {},
   "source": [
    "## As duas celulas a seguir sao apenas para que o codigo funcione no seu computador e seja capazes de computar e gerar gráficos. \n",
    "\n",
    "## Clique nela e em Run para carregar as funcionalidades, nao se preocupe nao vai ser baixado nada no seu computador!"
   ]
  },
  {
   "cell_type": "code",
   "execution_count": 35,
   "id": "e6a97a7c",
   "metadata": {},
   "outputs": [
    {
     "name": "stdout",
     "output_type": "stream",
     "text": [
      "Requirement already satisfied: matplotlib in /usr/lib/python3/dist-packages (3.1.2)\r\n"
     ]
    }
   ],
   "source": [
    "!pip install matplotlib\n",
    "import matplotlib\n",
    "\n",
    "import numpy as np\n",
    "import matplotlib.pyplot as plt\n",
    "\n",
    "def inerciaCalcIy(var, var2, varl):\n",
    "    H=var-(2*var2)\n",
    "    b=var2\n",
    "    a=var2\n",
    "    Iy= (H*b**3)/12 + (a*varl**3)/6\n",
    "    return Iy\n",
    "\n",
    "def cortanteFt(a, b, c, d):\n",
    "    return (Cortante1(a, b, c, d)*Q)/(inercia*l)\n",
    "\n",
    "def cortanteFp(a):\n",
    "    return (Fp*Q)/(inercia*l)\n",
    "\n",
    "def Cortante1(a, b, c, d): \n",
    "    return ReacaoV(b, c, d) - (c*a - (c*a**2)/(2*b))\n",
    "\n",
    "# permite que se mostre os gráficos nesse ambiente\n",
    "%matplotlib inline "
   ]
  },
  {
   "cell_type": "markdown",
   "id": "collaborative-insertion",
   "metadata": {},
   "source": [
    "## A celula a seguir recebe os dados essenciais da Viga, que segue o modelo abaixo.\n",
    "\n",
    "## Clique na celula e em Run para inserir os valores, que serao solicitados a seguir embaixo da celula."
   ]
  },
  {
   "cell_type": "markdown",
   "id": "diverse-contribution",
   "metadata": {},
   "source": [
    "![Modelo do Trabalho](viga.jpg)\n",
    "\n"
   ]
  },
  {
   "cell_type": "code",
   "execution_count": 25,
   "id": "230a8c9a",
   "metadata": {},
   "outputs": [
    {
     "name": "stdout",
     "output_type": "stream",
     "text": [
      "Digite o comprimento (2) da Viga (m):5.4\n",
      "    Comprimento da viga registrado!\n",
      "Digite o valor F2 da carga concentrada (N):2000\n",
      "    Valor da carga concentrada registrado!\n",
      "Digite a posicao (1) da carga concentrada (m):5.4\n",
      "    Posicao da carga concentrada registrada!\n",
      "Digite o valor maximo F1 da carga distribuida (N):2000\n",
      "    Valor da carga distribuida registrado!\n",
      "Digite a posicao final (3) da carga distribuida (m):3\n",
      "    Posicao da carga distribuida registrada!\n"
     ]
    }
   ],
   "source": [
    "#recebendo dados\n",
    "\n",
    "viga = float(input(\"Digite o comprimento (2) da Viga (m):\"))\n",
    "\n",
    "while viga <= 0:\n",
    "    print(\"    O  valor de comprimento nao pode ser 0 ou negativo! Tente novamente\")\n",
    "    viga = float(input(\"Digite o comprimento (2) da Viga (m):\"))\n",
    "\n",
    "else:\n",
    "    print(\"    Comprimento da viga registrado!\")\n",
    "\n",
    "    \n",
    "Fp = float(input(\"Digite o valor F2 da carga concentrada (N):\"))\n",
    "\n",
    "while Fp <= 0:\n",
    "    print(\"    O  valor de carga nao pode ser 0 ou negativo! Tente novamente\")\n",
    "    Fp = float(input(\"Digite o valor F2 da carga concentrada (N):\"))\n",
    "\n",
    "else:\n",
    "    print(\"    Valor da carga concentrada registrado!\")\n",
    "\n",
    "\n",
    "Fpx = float(input(\"Digite a posicao (1) da carga concentrada (m):\"))\n",
    "\n",
    "while (Fpx > viga) or (Fpx<0):\n",
    "    print(\"    A posicao da carga concentrada nao pode fora da extensao da viga! Tente novamente\")\n",
    "    Fpx = float(input(\"Digite a posicao (1) da carga concentrada (m):\"))\n",
    "\n",
    "else:\n",
    "    print(\"    Posicao da carga concentrada registrada!\")\n",
    "    \n",
    "Ft = float(input(\"Digite o valor maximo F1 da carga distribuida (N):\"))\n",
    "while Ft <= 0:\n",
    "    print(\"    O  valor de carga nao pode ser 0 ou negativo! Tente novamente\")\n",
    "    Ft = float(input(\"Digite o valor F1 da carga concentrada (N):\"))\n",
    "\n",
    "else:\n",
    "    print(\"    Valor da carga distribuida registrado!\")\n",
    "\n",
    "Ftx = float(input(\"Digite a posicao final (3) da carga distribuida (m):\"))\n",
    "\n",
    "while (Ftx > viga) or (Ftx<0):\n",
    "    print(\"    A posicao final da carga distribuida nao pode fora da extensao da viga! Tente novamente\")\n",
    "    Ftx = float(input(\"Digite a posicao final (3) da carga distribuida (m):\"))\n",
    "\n",
    "else:\n",
    "    print(\"    Posicao da carga distribuida registrada!\")\n",
    "    \n"
   ]
  },
  {
   "cell_type": "markdown",
   "id": "monthly-democrat",
   "metadata": {},
   "source": [
    "## Com os dados inseridos, é possivel calcular as reacoes de apoio no engaste.\n",
    "- Clique na celula abaixo e em Run para obter dados!"
   ]
  },
  {
   "cell_type": "code",
   "execution_count": 42,
   "id": "e586ac91",
   "metadata": {},
   "outputs": [
    {
     "name": "stdout",
     "output_type": "stream",
     "text": [
      "A reacao de apoio cortante tem valor(N): 5000.0\n",
      "O valor equivalente da carga distribuida para um ponto (N): 3000.0\n",
      "A posição de aplicação equivalente da carga distribuida (m): 1.0\n",
      "A reacao de apoio de momento tem valor(N*m): 13800.0\n"
     ]
    }
   ],
   "source": [
    "#calcula reacao do apoio cortante\n",
    "def ReacaoV(b,h,c):\n",
    "    return b*h/2 + c\n",
    "\n",
    "# calcula a reacao de apoio momento\n",
    "def ReacaoM(a,b,c,d):\n",
    "    return a*b + c*d\n",
    "\n",
    "print(\"A reacao de apoio cortante tem valor(N):\", ReacaoV(Ftx, Ft, Fp))\n",
    "\n",
    "#forca distribuida -> ponto\n",
    "\n",
    "fmed= (Ft*Ftx)/2\n",
    "print(\"O valor equivalente da carga distribuida para um ponto (N):\", fmed)\n",
    "\n",
    "xmed = Ftx/3\n",
    "print(\"A posição de aplicação equivalente da carga distribuida (m):\", xmed)\n",
    "\n",
    "print(\"A reacao de apoio de momento tem valor(N*m):\", ReacaoM(fmed,xmed,Fp, Fpx))"
   ]
  },
  {
   "cell_type": "markdown",
   "id": "owned-meeting",
   "metadata": {},
   "source": [
    "## A seguir é possivel gerar o grafico de esforco cortante!"
   ]
  },
  {
   "cell_type": "code",
   "execution_count": 27,
   "id": "18e6ee28",
   "metadata": {},
   "outputs": [
    {
     "data": {
      "image/png": "[encoded data removed]",
      "text/plain": [
       "<Figure size 720x360 with 1 Axes>"
      ]
     },
     "metadata": {
      "needs_background": "light"
     },
     "output_type": "display_data"
    },
    {
     "name": "stdout",
     "output_type": "stream",
     "text": [
      "Escolha um valor de x para saber o V(X): 1\n",
      "3333.333333333333\n"
     ]
    }
   ],
   "source": [
    "# Fazendo o gráfico da viga\n",
    "     # Para fazer os gráficos das funções\n",
    "\n",
    "\n",
    "x0 = 0              # Valor inicial de x\n",
    "xf = viga      # Valor final de x\n",
    "dx = 0.01            # Passo da discretização dx = (xf - x0)/(np-1)\n",
    "\n",
    "x = np.arange(x0, xf, dx)                 # cria um vetor de dados x-data\n",
    "y = Cortante1(x, Ftx, Ft, Fp)                         # calcula o vetor de dados y-data\n",
    "\n",
    "for i in range (0,len(x)):\n",
    "   if x[i] > Ftx:\n",
    "      y[i] = Fp\n",
    "\n",
    "        \n",
    "largura = 10  # Largura da figura\n",
    "altura  = 5   # Altura da figura\n",
    "plt.figure(figsize =(largura, altura))     # Define o tamanho do gráfico\n",
    "plt.grid()                       # Habilita a grade \n",
    "plt.xlabel('x(m)')\n",
    "plt.ylabel('V(x)')\n",
    "plt.title('')\n",
    "plt.plot(x, y, label=\"V(x)\")   # Faz o gráfico      \n",
    "plt.legend(loc=\"upper left\")        # Habilita as legendas\n",
    "plt.show()\n",
    "\n",
    "valorV=float(input(\"Escolha um valor de x para saber o V(X): \"))\n",
    "\n",
    "if (valorV > viga) or (valorV < 0):\n",
    "    while (valorV > viga) or (valorV < 0):\n",
    "        print(\"    A posicao nao pode fora da extensao da viga! Tente novamente\")\n",
    "        valorV = float(input(\"Escolha um valor de x para saber o V(X):\" ))\n",
    "        \n",
    "if (valorV < viga) and (valorV < Ftx): \n",
    "    print(Cortante1(valorV, Ftx, Ft, Fp))\n",
    "    \n",
    "if (valorV>=Ftx) and (valorV< viga):\n",
    "    print(Fp)\n",
    "        \n",
    "elif (valorV==0):\n",
    "    print(Cortante1(0, Ftx, Ft, Fp))"
   ]
  },
  {
   "cell_type": "markdown",
   "id": "alpha-rolling",
   "metadata": {},
   "source": [
    "## A seguir é possivel gerar o grafico de momento!"
   ]
  },
  {
   "cell_type": "code",
   "execution_count": 28,
   "id": "3d095f88",
   "metadata": {},
   "outputs": [
    {
     "data": {
      "image/png": "[encoded data removed]",
      "text/plain": [
       "<Figure size 720x360 with 1 Axes>"
      ]
     },
     "metadata": {
      "needs_background": "light"
     },
     "output_type": "display_data"
    },
    {
     "name": "stdout",
     "output_type": "stream",
     "text": [
      "Escolha um valor de x para saber o M(x): 2.3\n",
      "-6238.11111111111\n"
     ]
    }
   ],
   "source": [
    "# Fazendo o gráfico da viga\n",
    "import numpy as np                  \n",
    "import matplotlib.pyplot as plt     \n",
    "\n",
    "def M(a):\n",
    "    v = ReacaoV(Ftx, Ft, Fp)\n",
    "    m = ReacaoM(fmed,xmed,Fp,Fpx)\n",
    "    terc= Ft/(6*Ftx)\n",
    "    seg= -Ft/2    \n",
    "    return ( seg*(a**2) + terc*(a**3) + v*a -m)\n",
    "\n",
    "def M2(b):\n",
    "    return -((M(Ftx))/(viga-Ftx))*b + (viga*M(Ftx)/(viga-Ftx))   \n",
    "\n",
    "x0 = 0              # Valor inicial de x\n",
    "xf = viga            # Valor final de x\n",
    "dx = 0.01            # Passo da discretização dx = (xf - x0)/(np-1)\n",
    "\n",
    "x = np.arange(x0, xf, dx)                 # cria um vetor de dados x-data\n",
    "y = M(x)                         # calcula o vetor de dados y-data\n",
    "\n",
    "for i in range (0,len(x)):\n",
    "    if x[i] > Ftx:\n",
    "      y[i] = -((M(Ftx))/(viga-Ftx))*x[i] + (viga*M(Ftx)/(viga-Ftx))\n",
    "\n",
    "        \n",
    "largura = 10  # Largura da figura\n",
    "altura  = 5   # Altura da figura\n",
    "plt.figure(figsize =(largura, altura))     # Define o tamanho do gráfico\n",
    "plt.grid()                       # Habilita a grade \n",
    "plt.xlabel('x(Nm)')\n",
    "plt.ylabel('M(x)')\n",
    "plt.title('')\n",
    "plt.plot(x, y, label=\"M(x)\")   # Faz o gráfico      \n",
    "plt.legend(loc=\"upper left\")        # Habilita as legendas\n",
    "plt.show()\n",
    "\n",
    "#valor de M(x) em um ponto\n",
    "\n",
    "valorM=float(input(\"Escolha um valor de x para saber o M(x): \"))\n",
    "\n",
    "if (valorM==viga):\n",
    "    print(M2(viga))\n",
    "\n",
    "if (valorM<=Ftx) and (valorM>0):\n",
    "    print(M(valorM))\n",
    "    \n",
    "if (valorM>Ftx) and (valorM<viga):\n",
    "    print(M2(valorM))\n",
    "\n",
    "if (valorM>viga) or (valorM <0):\n",
    "    while (valorM > viga) or (valorM < 0) :\n",
    "        print(\"    A posicao nao pode fora da extensao da viga! Tente novamente\")\n",
    "        valorM = float(input(\"Escolha um valor de x para saber o M(x):\" ))\n",
    "            \n",
    "elif (valorM==0):\n",
    "    print(M(0))"
   ]
  },
  {
   "cell_type": "markdown",
   "id": "level-massage",
   "metadata": {},
   "source": [
    "## A celula seguinte serve para escolher a geometria da secao transversal da viga. \n",
    "\n",
    "\n",
    "![Tipos de Viga](secoes.png)"
   ]
  },
  {
   "cell_type": "markdown",
   "id": "95fa3a40",
   "metadata": {},
   "source": [
    "## - Digite 1 ou 2 a seguir:"
   ]
  },
  {
   "cell_type": "code",
   "execution_count": 29,
   "id": "18e678be",
   "metadata": {
    "scrolled": true
   },
   "outputs": [
    {
     "name": "stdout",
     "output_type": "stream",
     "text": [
      "Escolha uma configuracao de geometria, digitando 1 ou 2: 2\n",
      "Geometria I da secao transversal foi escolhida!\n",
      "Digite a altura h da secao transversal (cm): 0.2\n",
      "Digite a largura l da secao transversal (cm): 0.2\n",
      "Digite a altura h' da secao transversal (cm): 0.04\n"
     ]
    }
   ],
   "source": [
    "#entradas para tensao\n",
    "\n",
    "geo=int(input(\"Escolha uma configuracao de geometria, digitando 1 ou 2: \"))\n",
    "\n",
    "while (geo > 2) or (geo <= 0):\n",
    "    geo=int(input(\"    Escolha invalida, digite 1 ou 2: \"))\n",
    "\n",
    "if (geo == 1):\n",
    "    print(\"Geometria retangular da secao transversal foi escolhida!\")\n",
    "elif (geo == 2):\n",
    "        print(\"Geometria I da secao transversal foi escolhida!\")\n",
    "        \n",
    "#dimensoes \n",
    "\n",
    "h=float(input(\"Digite a altura h da secao transversal (cm): \"))\n",
    "\n",
    "while h <= 0 :\n",
    "    h=float(input(\"    Escolha invalida, digite um numero positivo nao nulo (cm): \"))\n",
    "\n",
    "l=float(input(\"Digite a largura l da secao transversal (cm): \"))\n",
    "\n",
    "while l <= 0 :\n",
    "    l=float(input(\"    Escolha invalida, digite um numero positivo nao nulo (cm): \"))\n",
    "    \n",
    "if geo==2:\n",
    "    hlinha=float(input(\"Digite a altura h' da secao transversal (cm): \"))\n",
    "    while hlinha <= 0 :\n",
    "        hlinha=float(input(\"    Escolha invalida, digite um numero positivo nao nulo (cm): \"))\n",
    "\n",
    "teste=2*hlinha        \n",
    "if (h<=teste):\n",
    "    while (h<=teste):\n",
    "        hlinha=float(input(\"    h nao pode ser menor do que (2h') , digite uma nova entrada (cm): \"))\n",
    "        teste=2*hlinha  \n",
    "    else: print(\"       Valores registrados!\")\n",
    "    "
   ]
  },
  {
   "cell_type": "markdown",
   "id": "random-catch",
   "metadata": {},
   "source": [
    "## Finalmente, de acordo com a escolha de secao transversal é possivel gerar o grafico da tensao normal."
   ]
  },
  {
   "cell_type": "code",
   "execution_count": 30,
   "id": "b445d7b2",
   "metadata": {},
   "outputs": [
    {
     "data": {
      "image/png": "[encoded data removed]",
      "text/plain": [
       "<Figure size 360x720 with 1 Axes>"
      ]
     },
     "metadata": {
      "needs_background": "light"
     },
     "output_type": "display_data"
    }
   ],
   "source": [
    "# Fazendo o gráfico da viga\n",
    "import numpy as np                  \n",
    "import matplotlib.pyplot as plt     \n",
    "\n",
    "if geo==1:\n",
    "    inercia=(h*l*l*l)/12\n",
    "    Q=h*l**2*0.5\n",
    "if geo==2:\n",
    "    inercia=inerciaCalcIy(h, hlinha, l)\n",
    "    Q=2*inercia/l\n",
    "\n",
    "def normalFt(a):\n",
    "    mom=M(a)\n",
    "    normal=(mom*h)/inercia\n",
    "    return normal\n",
    "\n",
    "def normalFp(a):\n",
    "    mom=M2(a)\n",
    "    return (mom*h)/inercia\n",
    "\n",
    "x0 = 0              # Valor inicial de x\n",
    "xf = viga            # Valor final de x\n",
    "dx = 0.01            # Passo da discretização dx = (xf - x0)/(np-1)\n",
    "\n",
    "\n",
    "x = np.arange(x0, xf, dx)                 # cria um vetor de dados x-data\n",
    "y = normalFt(x)\n",
    "\n",
    "\n",
    "for i in range (0,len(x)):\n",
    "    if x[i] > Ftx:\n",
    "        y[i] = normalFp(x[i]) \n",
    "\n",
    "        \n",
    "largura = 5  # Largura da figura\n",
    "altura  = 10   # Altura da figura\n",
    "plt.figure(figsize =(largura, altura))     # Define o tamanho do gráfico\n",
    "plt.grid()                       # Habilita a grade \n",
    "plt.xlabel('')\n",
    "plt.ylabel('Tensao Normal')\n",
    "plt.title('')\n",
    "plt.plot(y,x)   # Faz o gráfico      \n",
    "plt.show()"
   ]
  },
  {
   "cell_type": "code",
   "execution_count": 36,
   "id": "99db42b9",
   "metadata": {},
   "outputs": [
    {
     "data": {
      "image/png": "[encoded data removed]",
      "text/plain": [
       "<Figure size 360x720 with 1 Axes>"
      ]
     },
     "metadata": {
      "needs_background": "light"
     },
     "output_type": "display_data"
    }
   ],
   "source": [
    "# Fazendo o gráfico da viga\n",
    "import numpy as np                  \n",
    "import matplotlib.pyplot as plt     \n",
    "\n",
    "\n",
    "x0 = 0              # Valor inicial de x\n",
    "xf = viga            # Valor final de x\n",
    "dx = 0.01            # Passo da discretização dx = (xf - x0)/(np-1)\n",
    "\n",
    "x = np.arange(x0, xf, dx)                 # cria um vetor de dados x-data\n",
    "y = cortanteFt(x, Ftx, Ft, Fp)                         # calcula o vetor de dados y-data\n",
    "\n",
    "for i in range (0,len(x)):\n",
    "   if x[i] > Ftx:\n",
    "      y[i] = cortanteFt(x[i], Ftx, Ft, Fp)\n",
    "\n",
    "        \n",
    "largura = 5  # Largura da figura\n",
    "altura  = 10  # Altura da figura\n",
    "plt.figure(figsize =(largura, altura))     # Define o tamanho do gráfico\n",
    "plt.grid()                       # Habilita a grade \n",
    "plt.xlabel('tensao')\n",
    "plt.ylabel('altura')\n",
    "plt.title('Tensao Cisalhante')\n",
    "plt.plot(y, x)   # Faz o gráfico      \n",
    "      # Habilita as legendas\n",
    "\n",
    "plt.show()"
   ]
  },
  {
   "cell_type": "markdown",
   "id": "ea86eb60",
   "metadata": {},
   "source": [
    "## Por fim, vamos checar se algum limite é ultrapassado. \n",
    "## Insira os valores a seguir:"
   ]
  },
  {
   "cell_type": "code",
   "execution_count": 41,
   "id": "5adb3e7a",
   "metadata": {},
   "outputs": [
    {
     "name": "stdout",
     "output_type": "stream",
     "text": [
      "Digite o valor limite de cisalhamento (Pa): 8000\n",
      "O valor limite foi ultrapassado!\n"
     ]
    }
   ],
   "source": [
    "lim=float(input(\"Digite o valor limite de cisalhamento (Pa): \"))\n",
    "if geo==1:\n",
    "    inercia=(h*l*l*l)/12\n",
    "    Q=h*l**2*0.5\n",
    "if geo==2:\n",
    "    inercia=inerciaCalcIy(h, hlinha, l)\n",
    "    Q=2*inercia/l\n",
    "if (lim<=0):\n",
    "    while (lim<=0):\n",
    "        print(\"    O limite nao pode ser zero ou negativo! Tente novamente\")\n",
    "        valorV = float(input(\"Digite o valor limite de cisalhamento (Pa): \" ))\n",
    "\n",
    "import numpy as np \n",
    "x0 = 0              # Valor inicial de x\n",
    "xf = viga            # Valor final de x\n",
    "dx = 0.1            # Passo da discretização dx = (xf - x0)/(np-1)\n",
    "\n",
    "x = np.arange(x0, xf, dx)                 # cria um vetor de dados x-data\n",
    "y = (Cortante1(x,Ftx, Ft, Fp)*Q)/(inercia*l)                        # calcula o vetor de dados y-data\n",
    "\n",
    "for i in range (0,len(x)):\n",
    "    if y[i] > lim:\n",
    "        print(\"O valor limite foi ultrapassado!\")\n",
    "        break"
   ]
  },
  {
   "cell_type": "code",
   "execution_count": 22,
   "id": "14870137",
   "metadata": {},
   "outputs": [],
   "source": []
  },
  {
   "cell_type": "code",
   "execution_count": null,
   "id": "7488de86",
   "metadata": {},
   "outputs": [],
   "source": []
  }
 ],
 "metadata": {
  "kernelspec": {
   "display_name": "Python 3",
   "language": "python",
   "name": "python3"
  },
  "language_info": {
   "codemirror_mode": {
    "name": "ipython",
    "version": 3
   },
   "file_extension": ".py",
   "mimetype": "text/x-python",
   "name": "python",
   "nbconvert_exporter": "python",
   "pygments_lexer": "ipython3",
   "version": "3.8.5"
  }
 },
 "nbformat": 4,
 "nbformat_minor": 5
}
