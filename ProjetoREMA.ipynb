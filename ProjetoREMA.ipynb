{
 "cells": [
  {
   "cell_type": "markdown",
   "id": "dental-cooperation",
   "metadata": {},
   "source": [
    "# Bem Vindo à Calculadora de Vigas!\n",
    "## Feita por Laryssa Ferro e Lucas Silva\n",
    "\n",
    "- Aqui é possivel ver o codigo escrito e os dados que ele gera! \n",
    "\n",
    "- É só clicar no Run na barra no topo da pagina para entrar com novos dados ou graficos. \n",
    "\n",
    "- Sempre que uma celular gerar uma saida, ela aparecera logo abaixo da celula!\n",
    "\n",
    "- Prefira seguir de forma a descer a página, ou seja, ao alterar um dado reinicie desde o inicio da pagina!\n"
   ]
  },
  {
   "cell_type": "markdown",
   "id": "central-revolution",
   "metadata": {},
   "source": [
    "## As duas celulas a seguir sao apenas para que o codigo funcione e seja capaz de computar e gerar gráficos"
   ]
  },
  {
   "cell_type": "code",
   "execution_count": 2,
   "id": "e6a97a7c",
   "metadata": {},
   "outputs": [],
   "source": [
    "import matplotlib\n",
    "\n",
    "import numpy as np\n",
    "import matplotlib.pyplot as plt"
   ]
  },
  {
   "cell_type": "code",
   "execution_count": 3,
   "id": "1389aaa1",
   "metadata": {},
   "outputs": [],
   "source": [
    "# permite que se mostre os gráficos nesse ambiente\n",
    "%matplotlib inline "
   ]
  },
  {
   "cell_type": "markdown",
   "id": "collaborative-insertion",
   "metadata": {},
   "source": [
    "## A celula a seguir recebe os dados essenciais da Viga, clique nela e em Run para inserir os valores, que serao solicitados a seguir embaixo da celula."
   ]
  },
  {
   "cell_type": "markdown",
   "id": "diverse-contribution",
   "metadata": {},
   "source": [
    "![Modelo do Trabalho](viga.jpg)\n",
    "\n"
   ]
  },
  {
   "cell_type": "code",
   "execution_count": null,
   "id": "230a8c9a",
   "metadata": {},
   "outputs": [],
   "source": [
    "#recebendo dados\n",
    "\n",
    "viga = float(input(\"Digite o comprimento (2) da Viga (m):\"))\n",
    "\n",
    "while viga <= 0:\n",
    "    print(\"    O  valor de comprimento nao pode ser 0 ou negativo! Tente novamente\")\n",
    "    viga = float(input(\"Digite o comprimento (2) da Viga (m):\"))\n",
    "\n",
    "else:\n",
    "    print(\"    Comprimento da viga registrado!\")\n",
    "\n",
    "    \n",
    "Fp = float(input(\"Digite o valor F2 da carga concentrada (N):\"))\n",
    "\n",
    "while Fp <= 0:\n",
    "    print(\"    O  valor de carga nao pode ser 0 ou negativo! Tente novamente\")\n",
    "    Fp = float(input(\"Digite o valor F2 da carga concentrada (N):\"))\n",
    "\n",
    "else:\n",
    "    print(\"    Valor da carga concentrada registrado!\")\n",
    "\n",
    "\n",
    "Fpx = float(input(\"Digite a posicao (1) da carga concentrada (m):\"))\n",
    "\n",
    "while Fpx > viga:\n",
    "    print(\"    A posicao da carga concentrada nao pode fora da extensao da viga! Tente novamente\")\n",
    "    Fpx = float(input(\"Digite a posicao (1) da carga concentrada (m):\"))\n",
    "\n",
    "else:\n",
    "    print(\"    Posicao da carga concentrada registrada!\")\n",
    "    \n",
    "Ft = float(input(\"Digite o valor maximo F1 da carga distribuida (N):\"))\n",
    "while Ft <= 0:\n",
    "    print(\"    O  valor de carga nao pode ser 0 ou negativo! Tente novamente\")\n",
    "    Ft = float(input(\"Digite o valor F1 da carga concentrada (N):\"))\n",
    "\n",
    "else:\n",
    "    print(\"    Valor da carga distribuida registrado!\")\n",
    "\n",
    "Ftx = float(input(\"Digite a posicao final (3) da carga distribuida (m):\"))\n",
    "\n",
    "while Ftx > viga:\n",
    "    print(\"    A posicao final da carga distribuida nao pode fora da extensao da viga! Tente novamente\")\n",
    "    Ftx = float(input(\"Digite a posicao final (3) da carga distribuida (m):\"))\n",
    "\n",
    "else:\n",
    "    print(\"    Posicao da carga distribuida registrada!\")\n",
    "    \n"
   ]
  },
  {
   "cell_type": "markdown",
   "id": "monthly-democrat",
   "metadata": {},
   "source": [
    "## Com os dados inseridos, é possivel calcular as reacoes de apoio no engaste.\n",
    "- Clique na celula abaixo e em Run para obter dados!"
   ]
  },
  {
   "cell_type": "code",
   "execution_count": 8,
   "id": "e586ac91",
   "metadata": {},
   "outputs": [
    {
     "name": "stdout",
     "output_type": "stream",
     "text": [
      "A reacao de apoio cortante tem valor(N): 35.0\n",
      "O valor equivalente da carga distribuida para um ponto (N): 25.0\n",
      "A posição de aplicação equivalente da carga distribuida (m): 1.6666666666666667\n",
      "A reacao de apoio de momento tem valor(N*m): 141.66666666666669\n"
     ]
    }
   ],
   "source": [
    "#calcula reacao do apoio cortante\n",
    "def ReacaoV(b,h,c):\n",
    "    return b*h/2 + c\n",
    "\n",
    "print(\"A reacao de apoio cortante tem valor(N):\", ReacaoV(Ftx, Ft, Fp))\n",
    "\n",
    "# calcula a reacao de apoio momento\n",
    "def ReacaoM(a,b,c,d):\n",
    "    return a*b + c*d\n",
    "\n",
    "#forca distribuida -> ponto\n",
    "\n",
    "fmed= (Ft*Ftx)/2\n",
    "print(\"O valor equivalente da carga distribuida para um ponto (N):\", fmed)\n",
    "\n",
    "xmed = Ftx/3\n",
    "print(\"A posição de aplicação equivalente da carga distribuida (m):\", xmed)\n",
    "\n",
    "print(\"A reacao de apoio de momento tem valor(N*m):\", ReacaoM(fmed,xmed,Fp, Fpx))\n"
   ]
  },
  {
   "cell_type": "markdown",
   "id": "spoken-monitoring",
   "metadata": {},
   "source": [
    "## A celula a seguir define, na linguagem de programacao escolhida, como calcular o diagrama de esforco cortante."
   ]
  },
  {
   "cell_type": "code",
   "execution_count": 6,
   "id": "1b305f97",
   "metadata": {},
   "outputs": [
    {
     "name": "stdout",
     "output_type": "stream",
     "text": [
      "O valor equivalente da carga distribuida para um ponto (N): 25.0\n",
      "A posição de aplicação equivalente da carga distribuida (m): 1.6666666666666667\n",
      "A reacao de apoio de momento tem valor(N*m): 141.66666666666669\n"
     ]
    }
   ],
   "source": [
    "#diagrama cortante\n",
    "\n",
    "def W(a):  \n",
    "    return(Ft*a - (Ft*a**2)/(2*Ftx))\n",
    "\n",
    "def Cortante1(b): \n",
    "    return ReacaoV(Ftx, Ft, Fp) - W(b)\n",
    "   "
   ]
  },
  {
   "cell_type": "markdown",
   "id": "owned-meeting",
   "metadata": {},
   "source": [
    "## A seguir, com essa funcao, é possivel gerar o grafico!"
   ]
  },
  {
   "cell_type": "code",
   "execution_count": 7,
   "id": "18e6ee28",
   "metadata": {},
   "outputs": [
    {
     "data": {
      "image/png": "[encoded data removed]",
      "text/plain": [
       "<Figure size 720x360 with 1 Axes>"
      ]
     },
     "metadata": {
      "needs_background": "light"
     },
     "output_type": "display_data"
    }
   ],
   "source": [
    "# Fazendo o gráfico da viga\n",
    "import numpy as np                  # obtém acesso aos rápidos arrays da numpy \n",
    "import matplotlib.pyplot as plt     # Para fazer os gráficos das funções\n",
    "\n",
    "\n",
    "\n",
    "x0 = 0              # Valor inicial de x\n",
    "xf = viga      # Valor final de x\n",
    "dx = 0.01            # Passo da discretização dx = (xf - x0)/(np-1)\n",
    "\n",
    "x = np.arange(x0, xf, dx)                 # cria um vetor de dados x-data\n",
    "y = Cortante1(x)                         # calcula o vetor de dados y-data\n",
    "\n",
    "for i in range (0,len(x)):\n",
    "   if x[i] > Ftx:\n",
    "      y[i] = Fp\n",
    "\n",
    "        \n",
    "largura = 10  # Largura da figura\n",
    "altura  = 5   # Altura da figura\n",
    "plt.figure(figsize =(largura, altura))     # Define o tamanho do gráfico\n",
    "plt.grid()                       # Habilita a grade \n",
    "plt.xlabel('x(m)')\n",
    "plt.ylabel('V(x)')\n",
    "plt.title('')\n",
    "plt.plot(x, y, label=\"V(x)\")   # Faz o gráfico      \n",
    "plt.legend(loc=\"upper left\")        # Habilita as legendas\n",
    "plt.show()\n",
    "\n"
   ]
  },
  {
   "cell_type": "markdown",
   "id": "medium-income",
   "metadata": {},
   "source": [
    "## Para ter acesso a um valor especifico, use a celula seguinte. \n",
    "- Clique em Run quantas vezes quiser."
   ]
  },
  {
   "cell_type": "code",
   "execution_count": 8,
   "id": "7a13b3cd",
   "metadata": {},
   "outputs": [
    {
     "name": "stdout",
     "output_type": "stream",
     "text": [
      "Escolha um valor de x para saber o V(X): 5\n",
      "10.0\n"
     ]
    }
   ],
   "source": [
    "#valor de V(x) em um ponto\n",
    "\n",
    "valorV=float(input(\"Escolha um valor de x para saber o V(X): \"))\n",
    "\n",
    "if (valorV > viga) or (valorV < 0):\n",
    "    while valorV > viga or (valorV < 0):\n",
    "        print(\"    A posicao nao pode fora da extensao da viga! Tente novamente\")\n",
    "        valorV = float(input(\"Escolha um valor de x para saber o V(X):\" ))\n",
    "    else: print(Cortante1(valorV))\n",
    "elif (valorV>=Ftx):\n",
    "    while valorV > viga or (valorV < 0):\n",
    "        print(\"    A posicao nao pode fora da extensao da viga! Tente novamente\")\n",
    "        valorV = float(input(\"Escolha um valor de x para saber o V(X):\" ))\n",
    "    else: print(Fp)\n",
    "        \n",
    "elif (valorV==0):\n",
    "    print(Cortante1(0))\n"
   ]
  },
  {
   "cell_type": "markdown",
   "id": "relative-folks",
   "metadata": {},
   "source": [
    "## A celula a seguir define, na linguagem de programacao escolhida, como calcular o diagrama de momento."
   ]
  },
  {
   "cell_type": "code",
   "execution_count": 9,
   "id": "919e88b3",
   "metadata": {},
   "outputs": [],
   "source": [
    "#diagrama momento\n",
    "    \n",
    "def M(a):\n",
    "    v = ReacaoV(Ftx, Ft, Fp)\n",
    "    m = ReacaoM(fmed,xmed,Fp,Fpx)\n",
    "    terc= Ft/(6*Ftx)\n",
    "    seg= -Ft/2    \n",
    "    return ( seg*(a**2) + terc*(a**3) + v*a -m)\n",
    "\n",
    "def M2(b):\n",
    "    return Fp*(viga-Fpx) - (Ft*Ftx/2)*(viga-b-(Ftx/3))\n",
    "   "
   ]
  },
  {
   "cell_type": "markdown",
   "id": "alpha-rolling",
   "metadata": {},
   "source": [
    "## A seguir, com essa funcao, é possivel gerar o grafico!"
   ]
  },
  {
   "cell_type": "code",
   "execution_count": 10,
   "id": "3d095f88",
   "metadata": {},
   "outputs": [
    {
     "data": {
      "image/png": "[encoded data removed]",
      "text/plain": [
       "<Figure size 720x360 with 1 Axes>"
      ]
     },
     "metadata": {
      "needs_background": "light"
     },
     "output_type": "display_data"
    }
   ],
   "source": [
    "# Fazendo o gráfico da viga\n",
    "import numpy as np                  \n",
    "import matplotlib.pyplot as plt     \n",
    "\n",
    "\n",
    "\n",
    "x0 = 0              # Valor inicial de x\n",
    "xf = viga            # Valor final de x\n",
    "dx = 0.01            # Passo da discretização dx = (xf - x0)/(np-1)\n",
    "\n",
    "x = np.arange(x0, xf, dx)                 # cria um vetor de dados x-data\n",
    "y = M(x)                         # calcula o vetor de dados y-data\n",
    "\n",
    "for i in range (0,len(x)):\n",
    "   if x[i] > Ftx:\n",
    "      y[i] = M2(x[i])\n",
    "\n",
    "        \n",
    "largura = 10  # Largura da figura\n",
    "altura  = 5   # Altura da figura\n",
    "plt.figure(figsize =(largura, altura))     # Define o tamanho do gráfico\n",
    "plt.grid()                       # Habilita a grade \n",
    "plt.xlabel('x(Nm)')\n",
    "plt.ylabel('M(x)')\n",
    "plt.title('')\n",
    "plt.plot(x, y, label=\"M(x)\")   # Faz o gráfico      \n",
    "plt.legend(loc=\"upper left\")        # Habilita as legendas\n",
    "plt.show()\n"
   ]
  },
  {
   "cell_type": "markdown",
   "id": "editorial-seeker",
   "metadata": {},
   "source": [
    "## Para ter acesso a um valor especifico, use a celula seguinte. \n",
    "- Clique em Run quantas vezes quiser."
   ]
  },
  {
   "cell_type": "code",
   "execution_count": 11,
   "id": "a19ba46f",
   "metadata": {},
   "outputs": [
    {
     "name": "stdout",
     "output_type": "stream",
     "text": [
      "Escolha um valor de x para saber o M(x): 6\n",
      "Fora da distribuida tenta1: -58.33333333333333\n"
     ]
    }
   ],
   "source": [
    "#valor de M(x) em um ponto\n",
    "\n",
    "\n",
    "valorM=float(input(\"Escolha um valor de x para saber o M(x): \"))\n",
    "\n",
    "if (valorM==viga):\n",
    "    print(\"Na borda:\", M2(viga))\n",
    "\n",
    "if (valorM==Ftx):\n",
    "    print(\"Na quina:\", M(valorM))\n",
    "\n",
    "if (valorM < Ftx) and (valorM>0):\n",
    "    print(\"Dentro da distribuida tenta1:\", M(valorM))\n",
    "    \n",
    "if (valorM > Ftx) and (valorM<viga):\n",
    "    print(\"Fora da distribuida tenta1:\", M2(valorM))\n",
    "\n",
    "if (valorM > viga) or (valorM <0):\n",
    "    while valorM > viga or valorM < 0 :\n",
    "        print(\"    A posicao nao pode fora da extensao da viga! Tente novamente\")\n",
    "        valorM = float(input(\"Escolha um valor de x para saber o M(x):\" ))\n",
    "        if(valorM<Ftx) and (valorM>0):\n",
    "            print(\"Dentro da distribluida\", M(valorM))\n",
    "        elif (valorM>Ftx) and (valorM<viga):\n",
    "            print(\"Fora da distribuida:\", M2(valorM))\n",
    "            \n",
    "elif (valorM==0):\n",
    "    print(\"No zero:\", M(0))"
   ]
  },
  {
   "cell_type": "markdown",
   "id": "level-massage",
   "metadata": {},
   "source": [
    "## A celula seguinte serve para escolher a geometria da secao transversal da viga. \n",
    "## - Digite 1 ou 2.\n",
    "\n",
    "![Tipos de Viga](secoes.png)"
   ]
  },
  {
   "cell_type": "code",
   "execution_count": 26,
   "id": "18e678be",
   "metadata": {
    "scrolled": true
   },
   "outputs": [
    {
     "name": "stdout",
     "output_type": "stream",
     "text": [
      "Escolha uma configuracao de geometria, digitando 1 ou 2: 2\n",
      "Geometria I da secao transversal foi escolhida!\n",
      "Digite a altura h da secao transversal (cm): 10\n",
      "Digite a largura l da secao transversal (cm): 10\n",
      "Digite a altura h' da secao transversal (cm): 2\n"
     ]
    }
   ],
   "source": [
    "#entradas para tensao\n",
    "\n",
    "geo=int(input(\"Escolha uma configuracao de geometria, digitando 1 ou 2: \"))\n",
    "\n",
    "while geo > 2 :\n",
    "    geo=int(input(\"    Escolha invalida, digite 1 ou 2: \"))\n",
    "\n",
    "while geo < 0 :\n",
    "    geo=int(input(\"    Escolha invalida, digite 1 ou 2: \"))\n",
    "\n",
    "if (geo == 1):\n",
    "    print(\"Geometria retangular da secao transversal foi escolhida!\")\n",
    "elif (geo == 2):\n",
    "        print(\"Geometria I da secao transversal foi escolhida!\")\n",
    "        \n",
    "#dimensoes \n",
    "\n",
    "h=float(input(\"Digite a altura h da secao transversal (cm): \"))\n",
    "\n",
    "while h <= 0 :\n",
    "    h=float(input(\"    Escolha invalida, digite um numero positivo nao nulo (cm): \"))\n",
    "\n",
    "l=float(input(\"Digite a largura l da secao transversal (cm): \"))\n",
    "\n",
    "while l <= 0 :\n",
    "    l=float(input(\"    Escolha invalida, digite um numero positivo nao nulo (cm): \"))\n",
    "    \n",
    "if geo==2:\n",
    "    hlinha=float(input(\"Digite a altura h' da secao transversal (cm): \"))\n",
    "    while hlinha <= 0 :\n",
    "        hlinha=float(input(\"    Escolha invalida, digite um numero positivo nao nulo (cm): \"))\n",
    "\n"
   ]
  },
  {
   "cell_type": "markdown",
   "id": "conservative-showcase",
   "metadata": {},
   "source": [
    "## A celula a seguir define as funcoes para as variacoes possiveis de calculo de momento de inercia e tensao normal possiveis, a serem usadas de acordo com a escolha de secao transversal"
   ]
  },
  {
   "cell_type": "code",
   "execution_count": 27,
   "id": "35d6bfb3",
   "metadata": {},
   "outputs": [],
   "source": [
    "#calcular momento de inercia da viga I, nao tenho certeza se preciso em x ou y entao fiz os dois\n",
    "\n",
    "def inerciaCalcIx(var):\n",
    "    H=var-(2*hlinha)\n",
    "    b=hlinha\n",
    "    a=hlinha\n",
    "    B=l\n",
    "    Ix= (b*H**3)/12 + ((B*a**3)/6 + (a*B*(H+a)**2)/2)\n",
    "    Ixx = ((H**3)*hlinha)/12 + 2*(((hlinha**3)*l)/12 + hlinha*l*(H+hlinha)**2/4)\n",
    "    return Ixx\n",
    "\n",
    "def inerciaCalcIy(var):\n",
    "    H=var-(2*hlinha)\n",
    "    b=hlinha\n",
    "    a=hlinha\n",
    "    B=l\n",
    "    Iy= (H*b**3)/12 + (a*B**3)/6\n",
    "    return Iy\n",
    "\n",
    "#regiao forca triangular\n",
    "def tensaoNorIx1(var):\n",
    "    mome=M(var)\n",
    "    Ix=inerciaCalcIx(h)\n",
    "    tensaoX=(mome*var)/Ix\n",
    "    return tensaoX\n",
    "\n",
    "#regiao fora forca triangular\n",
    "def tensaoNorIx2(var):\n",
    "    mome=M2(var)\n",
    "    Ix=inerciaCalcIx(h)\n",
    "    tensaoX=(mome*var)/Ix\n",
    "    return tensaoX\n",
    "\n",
    "#regiao forca triangular\n",
    "def tensaoNorIy1(var):\n",
    "    mome=M(var)\n",
    "    Iy=inerciaCalcIy(h)\n",
    "    tensaoY=(mome*var)/Iy\n",
    "    return tensaoY\n",
    "\n",
    "#regiao fora forca triangular\n",
    "def tensaoNorIy2(var):\n",
    "    #entra x devolve tensao, h é cte\n",
    "    mome=M2(var)\n",
    "    Iy=inerciaCalcIy(h)\n",
    "    tensaoY=(mome*var)/Iy\n",
    "    return tensaoY\n",
    "    \n",
    "\n",
    "#modulo da sessao\n",
    "def Sx(var):\n",
    "    Ix=inerciaCalcIx(h)\n",
    "    H=var-(2*hlinha)\n",
    "    Sx=2*Ix/(H+2*hlinha)\n",
    "    return Sx\n",
    "\n",
    "def Sy(var):\n",
    "    Iy=inerciaCalcIy(h)\n",
    "    Sy=2*Iy/l\n",
    "    return Sy\n"
   ]
  },
  {
   "cell_type": "code",
   "execution_count": 28,
   "id": "3feb785a",
   "metadata": {},
   "outputs": [
    {
     "ename": "SyntaxError",
     "evalue": "invalid syntax (<ipython-input-28-3de46cd9d592>, line 3)",
     "output_type": "error",
     "traceback": [
      "\u001b[0;36m  File \u001b[0;32m\"<ipython-input-28-3de46cd9d592>\"\u001b[0;36m, line \u001b[0;32m3\u001b[0m\n\u001b[0;31m    b=\u001b[0m\n\u001b[0m      ^\u001b[0m\n\u001b[0;31mSyntaxError\u001b[0m\u001b[0;31m:\u001b[0m invalid syntax\n"
     ]
    }
   ],
   "source": [
    "def tensaoCisIx(xis, var):\n",
    "    Ix=inerciaCalcIx(h)\n",
    "    b=\n",
    "        if (var<hlinha):\n",
    "            func=Cortante1(xis)*Sx(var)/Ix*b\n"
   ]
  },
  {
   "cell_type": "markdown",
   "id": "discrete-coordinate",
   "metadata": {},
   "source": [
    "## A seguir, de acordo com a escolha de secao transversal, o codigo recorre as diferentes funcoes descritas."
   ]
  },
  {
   "cell_type": "code",
   "execution_count": 29,
   "id": "3ad72e3e",
   "metadata": {},
   "outputs": [],
   "source": [
    "if geo==1:\n",
    "    inercia= (h*l*l*l)/12\n",
    "\n",
    "\n",
    "if geo==2:\n",
    "    inercia= inerciaCalcIy(h)\n",
    "if geo==2:\n",
    "    tensaoGraf=tensaoNorIx1(x)"
   ]
  },
  {
   "cell_type": "markdown",
   "id": "random-catch",
   "metadata": {},
   "source": [
    "## Finalmente, com as funcoes e escolhas, é possivel gerar o grafico da tensao normal."
   ]
  },
  {
   "cell_type": "code",
   "execution_count": 30,
   "id": "b445d7b2",
   "metadata": {},
   "outputs": [
    {
     "data": {
      "image/png": "[encoded data removed]",
      "text/plain": [
       "<Figure size 720x360 with 1 Axes>"
      ]
     },
     "metadata": {
      "needs_background": "light"
     },
     "output_type": "display_data"
    }
   ],
   "source": [
    "# Fazendo o gráfico da viga\n",
    "import numpy as np                  \n",
    "import matplotlib.pyplot as plt     \n",
    "\n",
    "\n",
    "x0 = 0              # Valor inicial de x\n",
    "xf = viga            # Valor final de x\n",
    "dx = 0.01            # Passo da discretização dx = (xf - x0)/(np-1)\n",
    "\n",
    "x = np.arange(x0, xf, dx)                 # cria um vetor de dados x-data\n",
    "y = (M(x)*6)/(l*h**2)                  # calcula o vetor de dados y-data\n",
    "\n",
    "for i in range (0,len(x)):\n",
    "   if x[i] > Ftx:\n",
    "      y[i] = (M2(x[i])*6)/(l*h**2)\n",
    "\n",
    "        \n",
    "largura = 10  # Largura da figura\n",
    "altura  = 5   # Altura da figura\n",
    "plt.figure(figsize =(largura, altura))     # Define o tamanho do gráfico\n",
    "plt.grid()                       # Habilita a grade \n",
    "plt.xlabel('')\n",
    "plt.ylabel('Tensao Normal')\n",
    "plt.title('')\n",
    "plt.plot(x, y)   # Faz o gráfico      \n",
    "      # Habilita as legendas\n",
    "\n",
    "ax = plt.gca()  # gca stands for 'get current axis'\n",
    "ax.spines['right'].set_color('none')\n",
    "ax.spines['top'].set_color('none')\n",
    "ax.xaxis.set_ticks_position('bottom')\n",
    "ax.spines['bottom'].set_position(('data',0))\n",
    "ax.yaxis.set_ticks_position('left')\n",
    "ax.spines['left'].set_position(('data',0))\n",
    "\n",
    "plt.show()"
   ]
  },
  {
   "cell_type": "code",
   "execution_count": 31,
   "id": "99db42b9",
   "metadata": {},
   "outputs": [
    {
     "data": {
      "image/png": "[encoded data removed]",
      "text/plain": [
       "<Figure size 720x360 with 1 Axes>"
      ]
     },
     "metadata": {
      "needs_background": "light"
     },
     "output_type": "display_data"
    }
   ],
   "source": [
    "# Fazendo o gráfico da viga\n",
    "import numpy as np                  \n",
    "import matplotlib.pyplot as plt     \n",
    "\n",
    "\n",
    "x0 = 0              # Valor inicial de x\n",
    "xf = viga            # Valor final de x\n",
    "dx = 0.01            # Passo da discretização dx = (xf - x0)/(np-1)\n",
    "\n",
    "x = np.arange(x0, xf, dx)                 # cria um vetor de dados x-data\n",
    "y = tensaoNorIy1(x)                         # calcula o vetor de dados y-data\n",
    "\n",
    "for i in range (0,len(x)):\n",
    "   if x[i] > Ftx:\n",
    "      y[i] = -tensaoNorIy2(x[i])\n",
    "\n",
    "        \n",
    "largura = 10  # Largura da figura\n",
    "altura  = 5   # Altura da figura\n",
    "plt.figure(figsize =(largura, altura))     # Define o tamanho do gráfico\n",
    "plt.grid()                       # Habilita a grade \n",
    "plt.xlabel('')\n",
    "plt.ylabel('Tensao Normal')\n",
    "plt.title('')\n",
    "plt.plot(x, y)   # Faz o gráfico      \n",
    "      # Habilita as legendas\n",
    "\n",
    "ax = plt.gca()  # gca stands for 'get current axis'\n",
    "ax.spines['right'].set_color('none')\n",
    "ax.spines['top'].set_color('none')\n",
    "ax.xaxis.set_ticks_position('bottom')\n",
    "ax.spines['bottom'].set_position(('data',0))\n",
    "ax.yaxis.set_ticks_position('left')\n",
    "ax.spines['left'].set_position(('data',0))\n",
    "\n",
    "plt.show()"
   ]
  },
  {
   "cell_type": "code",
   "execution_count": null,
   "id": "b268d78a",
   "metadata": {},
   "outputs": [],
   "source": []
  }
 ],
 "metadata": {
  "kernelspec": {
   "display_name": "Python 3",
   "language": "python",
   "name": "python3"
  },
  "language_info": {
   "codemirror_mode": {
    "name": "ipython",
    "version": 3
   },
   "file_extension": ".py",
   "mimetype": "text/x-python",
   "name": "python",
   "nbconvert_exporter": "python",
   "pygments_lexer": "ipython3",
   "version": "3.7.10"
  }
 },
 "nbformat": 4,
 "nbformat_minor": 5
}
