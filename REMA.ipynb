{
 "cells": [
  {
   "cell_type": "code",
   "execution_count": 1,
   "id": "6b08ef7c",
   "metadata": {},
   "outputs": [],
   "source": [
    "import matplotlib\n",
    "import numpy as np\n",
    "import matplotlib.pyplot as plt"
   ]
  },
  {
   "cell_type": "code",
   "execution_count": 2,
   "id": "1389aaa1",
   "metadata": {},
   "outputs": [],
   "source": [
    "# permite que se mostre os gráficos nesse ambiente\n",
    "%matplotlib inline "
   ]
  },
  {
   "cell_type": "code",
   "execution_count": 24,
   "id": "230a8c9a",
   "metadata": {},
   "outputs": [
    {
     "name": "stdout",
     "output_type": "stream",
     "text": [
      "Digite o comprimento da Viga (m):10\n",
      "    Comprimento da viga registrado!\n",
      "Digite o valor da carga concentrada (N):-3\n",
      "    O  valor de carga nao pode ser 0 ou negativo! Tente novamente\n",
      "Digite o valor da carga concentrada (N):10\n",
      "    Valor da carga concentrada registrado!\n",
      "Digite a posicao da carga concentrada (m):10\n",
      "    Posicao da carga concentrada registrada!\n",
      "Digite o valor maximo da carga distribuida (N):10\n",
      "    Valor da carga distribuida registrado!\n",
      "Digite a posicao final da carga distribuida (m):5\n",
      "    Posicao da carga distribuida registrada!\n"
     ]
    }
   ],
   "source": [
    "#recebendo dados\n",
    "\n",
    "viga = float(input(\"Digite o comprimento da Viga (m):\"))\n",
    "\n",
    "while viga <= 0:\n",
    "    print(\"    O  valor de comprimento nao pode ser 0 ou negativo! Tente novamente\")\n",
    "    viga = float(input(\"Digite o comprimento da Viga (m):\"))\n",
    "\n",
    "else:\n",
    "    print(\"    Comprimento da viga registrado!\")\n",
    "\n",
    "    \n",
    "Fp = float(input(\"Digite o valor da carga concentrada (N):\"))\n",
    "\n",
    "while Fp <= 0:\n",
    "    print(\"    O  valor de carga nao pode ser 0 ou negativo! Tente novamente\")\n",
    "    Fp = float(input(\"Digite o valor da carga concentrada (N):\"))\n",
    "\n",
    "else:\n",
    "    print(\"    Valor da carga concentrada registrado!\")\n",
    "\n",
    "\n",
    "Fpx = float(input(\"Digite a posicao da carga concentrada (m):\"))\n",
    "\n",
    "while Fpx > viga:\n",
    "    print(\"    A posicao da carga concentrada nao pode fora da extensao da viga! Tente novamente\")\n",
    "    Fpx = float(input(\"Digite a posicao da carga concentrada (m):\"))\n",
    "\n",
    "else:\n",
    "    print(\"    Posicao da carga concentrada registrada!\")\n",
    "    \n",
    "Ft = float(input(\"Digite o valor maximo da carga distribuida (N):\"))\n",
    "while Ft <= 0:\n",
    "    print(\"    O  valor de carga nao pode ser 0 ou negativo! Tente novamente\")\n",
    "    Ft = float(input(\"Digite o valor da carga concentrada (N):\"))\n",
    "\n",
    "else:\n",
    "    print(\"    Valor da carga distribuida registrado!\")\n",
    "\n",
    "Ftx = float(input(\"Digite a posicao final da carga distribuida (m):\"))\n",
    "\n",
    "while Ftx > viga:\n",
    "    print(\"    A posicao final da carga distribuida nao pode fora da extensao da viga! Tente novamente\")\n",
    "    Ftx = float(input(\"Digite a posicao final da carga distribuida (m):\"))\n",
    "\n",
    "else:\n",
    "    print(\"    Posicao da carga distribuida registrada!\")\n",
    "    \n"
   ]
  },
  {
   "cell_type": "code",
   "execution_count": 25,
   "id": "e586ac91",
   "metadata": {},
   "outputs": [
    {
     "name": "stdout",
     "output_type": "stream",
     "text": [
      "A reacao de apoio cortante tem valor(N): 35.0\n"
     ]
    }
   ],
   "source": [
    "#calcula reacao do apoio\n",
    "def ReacaoV(b,h,c):\n",
    "    return b*h/2 + c\n",
    "\n",
    "print(\"A reacao de apoio cortante tem valor(N):\", ReacaoV(Ftx, Ft, Fp))"
   ]
  },
  {
   "cell_type": "code",
   "execution_count": 5,
   "id": "1b305f97",
   "metadata": {},
   "outputs": [
    {
     "name": "stdout",
     "output_type": "stream",
     "text": [
      "O valor equivalente da carga distribuida para um ponto (N): 25.0\n",
      "A posição de aplicação equivalente da carga distribuida (m): 1.6666666666666667\n",
      "A reacao de apoio de momento tem valor(N*m): 141.66666666666669\n"
     ]
    }
   ],
   "source": [
    "#forca distribuida -> ponto\n",
    "\n",
    "fmed= (Ft*Ftx)/2\n",
    "print(\"O valor equivalente da carga distribuida para um ponto (N):\", fmed)\n",
    "\n",
    "xmed = Ftx/3\n",
    "print(\"A posição de aplicação equivalente da carga distribuida (m):\", xmed)\n",
    "\n",
    "def ReacaoM(a,b,c,d):\n",
    "    return a*b + c*d\n",
    "print(\"A reacao de apoio de momento tem valor(N*m):\", ReacaoM(fmed,xmed,Fp, Fpx))\n",
    "\n",
    "#diagrama cortante\n",
    "\n",
    "def W(a):  \n",
    "    return(Ft*a - (Ft*a**2)/(2*Ftx))\n",
    "\n",
    "def Cortante1(b): \n",
    "    return ReacaoV(Ftx, Ft, Fp) - W(b)\n",
    "   "
   ]
  },
  {
   "cell_type": "code",
   "execution_count": 6,
   "id": "18e6ee28",
   "metadata": {},
   "outputs": [
    {
     "data": {
      "image/png": "[encoded data removed]",
      "text/plain": [
       "<Figure size 720x360 with 1 Axes>"
      ]
     },
     "metadata": {
      "needs_background": "light"
     },
     "output_type": "display_data"
    }
   ],
   "source": [
    "# Fazendo o gráfico da viga\n",
    "import numpy as np                  # obtém acesso aos rápidos arrays da numpy \n",
    "import matplotlib.pyplot as plt     # Para fazer os gráficos das funções\n",
    "\n",
    "\n",
    "\n",
    "x0 = 0              # Valor inicial de x\n",
    "xf = viga      # Valor final de x\n",
    "dx = 0.01            # Passo da discretização dx = (xf - x0)/(np-1)\n",
    "\n",
    "x = np.arange(x0, xf, dx)                 # cria um vetor de dados x-data\n",
    "y = Cortante1(x)                         # calcula o vetor de dados y-data\n",
    "\n",
    "for i in range (0,len(x)):\n",
    "   if x[i] > Ftx:\n",
    "      y[i] = Fp\n",
    "\n",
    "        \n",
    "largura = 10  # Largura da figura\n",
    "altura  = 5   # Altura da figura\n",
    "plt.figure(figsize =(largura, altura))     # Define o tamanho do gráfico\n",
    "plt.grid()                       # Habilita a grade \n",
    "plt.xlabel('x(m)')\n",
    "plt.ylabel('V(x)')\n",
    "plt.title('')\n",
    "plt.plot(x, y, label=\"V(x)\")   # Faz o gráfico      \n",
    "plt.legend(loc=\"upper left\")        # Habilita as legendas\n",
    "plt.show()\n",
    "\n"
   ]
  },
  {
   "cell_type": "code",
   "execution_count": 7,
   "id": "7a13b3cd",
   "metadata": {},
   "outputs": [
    {
     "name": "stdout",
     "output_type": "stream",
     "text": [
      "Escolha um valor de x para saber o V(X): 5\n",
      "10.0\n"
     ]
    }
   ],
   "source": [
    "#valor de V(x) em um ponto\n",
    "\n",
    "valorV=float(input(\"Escolha um valor de x para saber o V(X): \"))\n",
    "\n",
    "if (valorV > viga) or (valorV < 0):\n",
    "    while valorV > viga or (valorV < 0):\n",
    "        print(\"    A posicao nao pode fora da extensao da viga! Tente novamente\")\n",
    "        valorV = float(input(\"Escolha um valor de x para saber o V(X):\" ))\n",
    "    else: print(Cortante1(valorV))\n",
    "elif (valorV>=Ftx):\n",
    "    while valorV > viga or (valorV < 0):\n",
    "        print(\"    A posicao nao pode fora da extensao da viga! Tente novamente\")\n",
    "        valorV = float(input(\"Escolha um valor de x para saber o V(X):\" ))\n",
    "    else: print(Fp)\n"
   ]
  },
  {
   "cell_type": "code",
   "execution_count": 8,
   "id": "919e88b3",
   "metadata": {},
   "outputs": [],
   "source": [
    "#diagrama momento\n",
    "    \n",
    "def M(a):\n",
    "    v = ReacaoV(Ftx, Ft, Fp)\n",
    "    m = ReacaoM(fmed,xmed,Fp,Fpx)\n",
    "    terc= Ft/(6*Ftx)\n",
    "    seg= -Ft/2    \n",
    "    return ( seg*(a**2) + terc*(a**3) + v*a -m)\n",
    "\n",
    "def M2(b):\n",
    "    calc= Fp*(viga-Fpx) - (Ft*Ftx/2)*(viga-b-(Ftx/3))\n",
    "    return calc"
   ]
  },
  {
   "cell_type": "code",
   "execution_count": 9,
   "id": "3d095f88",
   "metadata": {},
   "outputs": [
    {
     "data": {
      "image/png": "[encoded data removed]",
      "text/plain": [
       "<Figure size 720x360 with 1 Axes>"
      ]
     },
     "metadata": {
      "needs_background": "light"
     },
     "output_type": "display_data"
    }
   ],
   "source": [
    "# Fazendo o gráfico da viga\n",
    "import numpy as np                  \n",
    "import matplotlib.pyplot as plt     \n",
    "\n",
    "\n",
    "\n",
    "x0 = 0              # Valor inicial de x\n",
    "xf = viga            # Valor final de x\n",
    "dx = 0.01            # Passo da discretização dx = (xf - x0)/(np-1)\n",
    "\n",
    "x = np.arange(x0, xf, dx)                 # cria um vetor de dados x-data\n",
    "y = M(x)                         # calcula o vetor de dados y-data\n",
    "\n",
    "for i in range (0,len(x)):\n",
    "   if x[i] > Ftx:\n",
    "      y[i] = M2(x[i])\n",
    "\n",
    "        \n",
    "largura = 10  # Largura da figura\n",
    "altura  = 5   # Altura da figura\n",
    "plt.figure(figsize =(largura, altura))     # Define o tamanho do gráfico\n",
    "plt.grid()                       # Habilita a grade \n",
    "plt.xlabel('x(Nm)')\n",
    "plt.ylabel('M(x)')\n",
    "plt.title('')\n",
    "plt.plot(x, y, label=\"M(x)\")   # Faz o gráfico      \n",
    "plt.legend(loc=\"upper left\")        # Habilita as legendas\n",
    "plt.show()\n"
   ]
  },
  {
   "cell_type": "code",
   "execution_count": 14,
   "id": "a19ba46f",
   "metadata": {},
   "outputs": [
    {
     "name": "stdout",
     "output_type": "stream",
     "text": [
      "Escolha um valor de x para saber o M(X): 5\n",
      "Na quina: -50.00000000000003\n"
     ]
    }
   ],
   "source": [
    "#valor de M(x) em um ponto\n",
    "\n",
    "valorM=float(input(\"Escolha um valor de x para saber o M(X): \"))\n",
    "\n",
    "if (valorM==viga):\n",
    "    print(\"Na borda:\", M2(viga))\n",
    "\n",
    "if (valorM==Ftx):\n",
    "    print(\"Na quina:\", M(valorM))\n",
    "\n",
    "if (valorM > viga) or (valorM <= 0):\n",
    "    while valorM > viga or valorM < 0 :\n",
    "        print(\"    A posicao nao pode fora da extensao da viga! Tente novamente\")\n",
    "        valorM = float(input(\"Escolha um valor de x para saber o M(X):\" ))\n",
    "        if(valorM<Ftx) and (valorM!=0):\n",
    "            print(\"Dentro da distribluida\", M(valorM))\n",
    "        elif (valorM>Ftx):\n",
    "            print(\"Fora da distribuida:\", M2(valorM))\n",
    "    else:\n",
    "        if (valor!=viga):\n",
    "            print(\"No zero:\", M(0))"
   ]
  },
  {
   "cell_type": "code",
   "execution_count": 21,
   "id": "18e678be",
   "metadata": {},
   "outputs": [
    {
     "name": "stdout",
     "output_type": "stream",
     "text": [
      "Escolha uma configuracao de geometria, digitando 1 ou 2: 2\n",
      "Geometria I da secao transversal foi escolhida!\n",
      "Digite a altura h da secao transversal (cm): 10\n",
      "Digite a largura l da secao transversal (cm): 10\n",
      "Digite a altura h' da secao transversal (cm): 2\n"
     ]
    }
   ],
   "source": [
    "#entradas para tensao\n",
    "\n",
    "geo=int(input(\"Escolha uma configuracao de geometria, digitando 1 ou 2: \"))\n",
    "\n",
    "while geo > 2 :\n",
    "    geo=int(input(\"    Escolha invalida, digite 1 ou 2: \"))\n",
    "\n",
    "while geo < 0 :\n",
    "    geo=int(input(\"    Escolha invalida, digite 1 ou 2: \"))\n",
    "\n",
    "if (geo == 1):\n",
    "    print(\"Geometria retangular da secao transversal foi escolhida!\")\n",
    "elif (geo == 2):\n",
    "        print(\"Geometria I da secao transversal foi escolhida!\")\n",
    "        \n",
    "#dimensoes \n",
    "\n",
    "h=float(input(\"Digite a altura h da secao transversal (cm): \"))\n",
    "\n",
    "while h <= 0 :\n",
    "    h=float(input(\"    Escolha invalida, digite um numero positivo nao nulo (cm): \"))\n",
    "\n",
    "l=float(input(\"Digite a largura l da secao transversal (cm): \"))\n",
    "\n",
    "while l <= 0 :\n",
    "    l=float(input(\"    Escolha invalida, digite um numero positivo nao nulo (cm): \"))\n",
    "    \n",
    "if geo==2:\n",
    "    hlinha=float(input(\"Digite a altura h' da secao transversal (cm): \"))\n",
    "    while hlinha <= 0 :\n",
    "        hlinha=float(input(\"    Escolha invalida, digite um numero positivo nao nulo (cm): \"))\n",
    "\n"
   ]
  },
  {
   "cell_type": "code",
   "execution_count": 23,
   "id": "3ad72e3e",
   "metadata": {},
   "outputs": [
    {
     "data": {
      "text/plain": [
       "64.66666666666667"
      ]
     },
     "execution_count": 23,
     "metadata": {},
     "output_type": "execute_result"
    }
   ],
   "source": [
    "if geo==1:\n",
    "    inercia= (h*l*l*l)/12\n",
    "\n",
    "if geo==2:\n",
    "    hmenos=h-(2*hlinha)\n",
    "    inercia= (h*h*l - (l-hlinha) - (hmenos)**3)/12\n",
    "    \n",
    "inercia"
   ]
  },
  {
   "cell_type": "code",
   "execution_count": 17,
   "id": "d7061c36",
   "metadata": {},
   "outputs": [
    {
     "data": {
      "text/plain": [
       "337.3333333333333"
      ]
     },
     "execution_count": 17,
     "metadata": {},
     "output_type": "execute_result"
    }
   ],
   "source": [
    "inercia"
   ]
  },
  {
   "cell_type": "code",
   "execution_count": null,
   "id": "b445d7b2",
   "metadata": {},
   "outputs": [],
   "source": []
  }
 ],
 "metadata": {
  "kernelspec": {
   "display_name": "Python 3",
   "language": "python",
   "name": "python3"
  },
  "language_info": {
   "codemirror_mode": {
    "name": "ipython",
    "version": 3
   },
   "file_extension": ".py",
   "mimetype": "text/x-python",
   "name": "python",
   "nbconvert_exporter": "python",
   "pygments_lexer": "ipython3",
   "version": "3.8.5"
  }
 },
 "nbformat": 4,
 "nbformat_minor": 5
}
